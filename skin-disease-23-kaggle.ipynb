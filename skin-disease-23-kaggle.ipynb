{
 "cells": [
  {
   "cell_type": "code",
   "execution_count": 1,
   "metadata": {
    "_cell_guid": "c5ff49ef-890e-48d7-83e8-e2c55df4f865",
    "_uuid": "b2a33dbc-fcbd-4a7b-8e04-b1a4fe2b0d1e"
   },
   "outputs": [
    {
     "name": "stdout",
     "output_type": "stream",
     "text": [
      "/kaggle/input/mobilenetepoch150/mobilenet-epoch147-val63.h5\n",
      "/kaggle/input/epoch70/modelnet-epoch70-val58.h5\n",
      "/kaggle/input/model-file/models.py\n"
     ]
    }
   ],
   "source": [
    "# This Python 3 environment comes with many helpful analytics libraries installed\n",
    "# It is defined by the kaggle/python docker image: https://github.com/kaggle/docker-python\n",
    "# For example, here's several helpful packages to load in \n",
    "\n",
    "import numpy as np # linear algebra\n",
    "import pandas as pd # data processing, CSV file I/O (e.g. pd.read_csv)\n",
    "\n",
    "# Input data files are available in the \"../input/\" directory.\n",
    "# For example, running this (by clicking run or pressing Shift+Enter) will list all files under the input directory\n",
    "\n",
    "import os\n",
    "for dirname, _, filenames in os.walk('/kaggle/input'):\n",
    "    for filename in filenames:\n",
    "        print(os.path.join(dirname, filename))\n",
    "\n",
    "# Any results you write to the current directory are saved as output."
   ]
  },
  {
   "cell_type": "code",
   "execution_count": 2,
   "metadata": {
    "_cell_guid": "af20e936-ece5-4f2d-8f9f-93bf96f67dde",
    "_uuid": "615cb590-a1a9-436b-b5ee-bdfaf4d2c380"
   },
   "outputs": [
    {
     "name": "stdout",
     "output_type": "stream",
     "text": [
      "--2020-04-15 06:59:52--  https://www.dropbox.com/s/h5yora9j0onglw6/train.zip?dl=1\r\n",
      "Resolving www.dropbox.com (www.dropbox.com)... 162.125.8.1, 2620:100:601b:1::a27d:801\r\n",
      "Connecting to www.dropbox.com (www.dropbox.com)|162.125.8.1|:443... connected.\r\n",
      "HTTP request sent, awaiting response... 301 Moved Permanently\r\n",
      "Location: /s/dl/h5yora9j0onglw6/train.zip [following]\r\n",
      "--2020-04-15 06:59:52--  https://www.dropbox.com/s/dl/h5yora9j0onglw6/train.zip\r\n",
      "Reusing existing connection to www.dropbox.com:443.\r\n",
      "HTTP request sent, awaiting response... 302 Found\r\n",
      "Location: https://uc4d78464a2f0efad8336a95ed57.dl.dropboxusercontent.com/cd/0/get/A16I4mtcQFWLE6GgupRvXA3F_tTOYrO5Kl4rUjlzBXuVtFeF_8JpDUEMT-T2_69eaBveemfYwM8R61gc_vNw8WgLp-acC_PrHGJK_iR0n7RdpQ/file?dl=1# [following]\r\n",
      "--2020-04-15 06:59:52--  https://uc4d78464a2f0efad8336a95ed57.dl.dropboxusercontent.com/cd/0/get/A16I4mtcQFWLE6GgupRvXA3F_tTOYrO5Kl4rUjlzBXuVtFeF_8JpDUEMT-T2_69eaBveemfYwM8R61gc_vNw8WgLp-acC_PrHGJK_iR0n7RdpQ/file?dl=1\r\n",
      "Resolving uc4d78464a2f0efad8336a95ed57.dl.dropboxusercontent.com (uc4d78464a2f0efad8336a95ed57.dl.dropboxusercontent.com)... 162.125.8.6, 2620:100:601b:6::a27d:806\r\n",
      "Connecting to uc4d78464a2f0efad8336a95ed57.dl.dropboxusercontent.com (uc4d78464a2f0efad8336a95ed57.dl.dropboxusercontent.com)|162.125.8.6|:443... connected.\r\n",
      "HTTP request sent, awaiting response... 200 OK\r\n",
      "Length: 1469585068 (1.4G) [application/binary]\r\n",
      "Saving to: ‘train.zip?dl=1’\r\n",
      "\r\n",
      "train.zip?dl=1      100%[===================>]   1.37G  54.0MB/s    in 27s     \r\n",
      "\r\n",
      "2020-04-15 07:00:19 (52.7 MB/s) - ‘train.zip?dl=1’ saved [1469585068/1469585068]\r\n",
      "\r\n",
      "--2020-04-15 07:00:20--  https://www.dropbox.com/s/c94io61nmldcgv8/test.zip?dl=1\r\n",
      "Resolving www.dropbox.com (www.dropbox.com)... 162.125.8.1, 2620:100:601b:1::a27d:801\r\n",
      "Connecting to www.dropbox.com (www.dropbox.com)|162.125.8.1|:443... connected.\r\n",
      "HTTP request sent, awaiting response... 301 Moved Permanently\r\n",
      "Location: /s/dl/c94io61nmldcgv8/test.zip [following]\r\n",
      "--2020-04-15 07:00:20--  https://www.dropbox.com/s/dl/c94io61nmldcgv8/test.zip\r\n",
      "Reusing existing connection to www.dropbox.com:443.\r\n",
      "HTTP request sent, awaiting response... 302 Found\r\n",
      "Location: https://uc1c451df03a261d7d0485ae9559.dl.dropboxusercontent.com/cd/0/get/A14GZef8pfqrn3EqXqUvdI0TVZbjxOklcW_fN6-SVN9F6zVQsig1wvS1QRv2jcVxJVaUGNrTWf4Vr6rpwW67n6e4iTuaz9PNX0ffUCRHqg_5CA/file?dl=1# [following]\r\n",
      "--2020-04-15 07:00:20--  https://uc1c451df03a261d7d0485ae9559.dl.dropboxusercontent.com/cd/0/get/A14GZef8pfqrn3EqXqUvdI0TVZbjxOklcW_fN6-SVN9F6zVQsig1wvS1QRv2jcVxJVaUGNrTWf4Vr6rpwW67n6e4iTuaz9PNX0ffUCRHqg_5CA/file?dl=1\r\n",
      "Resolving uc1c451df03a261d7d0485ae9559.dl.dropboxusercontent.com (uc1c451df03a261d7d0485ae9559.dl.dropboxusercontent.com)... 162.125.8.6, 2620:100:601b:6::a27d:806\r\n",
      "Connecting to uc1c451df03a261d7d0485ae9559.dl.dropboxusercontent.com (uc1c451df03a261d7d0485ae9559.dl.dropboxusercontent.com)|162.125.8.6|:443... connected.\r\n",
      "HTTP request sent, awaiting response... 200 OK\r\n",
      "Length: 376234288 (359M) [application/binary]\r\n",
      "Saving to: ‘test.zip?dl=1’\r\n",
      "\r\n",
      "test.zip?dl=1       100%[===================>] 358.80M  52.0MB/s    in 6.9s    \r\n",
      "\r\n",
      "2020-04-15 07:00:28 (51.9 MB/s) - ‘test.zip?dl=1’ saved [376234288/376234288]\r\n",
      "\r\n"
     ]
    }
   ],
   "source": [
    "# Downloading dataset\n",
    "!wget \"https://www.dropbox.com/s/h5yora9j0onglw6/train.zip?dl=1\"\n",
    "!wget \"https://www.dropbox.com/s/c94io61nmldcgv8/test.zip?dl=1\"\n",
    "!unzip -q train.zip?dl=1\n",
    "!unzip -q test.zip?dl=1\n",
    "!rm train.zip?dl=1\n",
    "!rm test.zip?dl=1"
   ]
  },
  {
   "cell_type": "code",
   "execution_count": 3,
   "metadata": {},
   "outputs": [
    {
     "name": "stdout",
     "output_type": "stream",
     "text": [
      "unzip:  cannot find or open train.zip?dl=1.1, train.zip?dl=1.1.zip or train.zip?dl=1.1.ZIP.\r\n",
      "\r\n",
      "No zipfiles found.\r\n"
     ]
    }
   ],
   "source": [
    "!unzip -q train.zip?dl=1.1"
   ]
  },
  {
   "cell_type": "code",
   "execution_count": 4,
   "metadata": {},
   "outputs": [
    {
     "name": "stdout",
     "output_type": "stream",
     "text": [
      "rm: cannot remove 'train.zip?dl=1': No such file or directory\r\n",
      "rm: cannot remove 'test.zip?dl=1': No such file or directory\r\n"
     ]
    }
   ],
   "source": [
    "!rm train.zip?dl=1\n",
    "!rm test.zip?dl=1\n",
    "# !rm test.zip?dl=1.2"
   ]
  },
  {
   "cell_type": "code",
   "execution_count": 5,
   "metadata": {},
   "outputs": [
    {
     "name": "stderr",
     "output_type": "stream",
     "text": [
      "Using TensorFlow backend.\n"
     ]
    }
   ],
   "source": [
    "import keras\n",
    "from keras import backend as K\n",
    "from keras.layers.core import Dense, Activation\n",
    "from keras.optimizers import Adam\n",
    "from keras.metrics import categorical_crossentropy\n",
    "from keras.preprocessing.image import ImageDataGenerator\n",
    "from keras.preprocessing import image\n",
    "from keras.models import Model\n",
    "from keras.applications import imagenet_utils\n",
    "from keras.layers import Dense,GlobalAveragePooling2D\n",
    "from keras.applications import MobileNet\n",
    "from keras.applications.mobilenet import preprocess_input\n",
    "import numpy as np\n",
    "from IPython.display import Image\n",
    "from keras.optimizers import Adam\n",
    "\n",
    "from keras.models import Sequential\n",
    "from keras.layers import Dense, Dropout, Activation, Flatten\n",
    "from keras.layers import Convolution2D, MaxPooling2D\n",
    "from keras.layers.normalization import BatchNormalization\n",
    "\n"
   ]
  },
  {
   "cell_type": "code",
   "execution_count": 6,
   "metadata": {
    "_cell_guid": "46b94a84-4bd2-41e9-841a-14d4ed6bd370",
    "_uuid": "c71e5072-4c0e-46e0-a558-d597506cf238"
   },
   "outputs": [
    {
     "name": "stdout",
     "output_type": "stream",
     "text": [
      "2.1.0\n"
     ]
    }
   ],
   "source": [
    "# !pip uninstall tensorflow\n",
    "# !pip install tensorflow-gpu==1.14\n",
    "import tensorflow\n",
    "print(tensorflow.__version__)"
   ]
  },
  {
   "cell_type": "code",
   "execution_count": 7,
   "metadata": {},
   "outputs": [],
   "source": [
    "# # from ../input/mri-model-file import model\n",
    "# import os\n",
    "# os.chdir(\"/kaggle/input/\")\n",
    "# import models\n",
    "# print(os.listdir(\".\"))\n",
    "# model = models.mri_model_2()\n",
    "# model.summary()\n",
    "# os.chdir(\"/kaggle/working/\")"
   ]
  },
  {
   "cell_type": "code",
   "execution_count": 8,
   "metadata": {},
   "outputs": [
    {
     "name": "stdout",
     "output_type": "stream",
     "text": [
      "Downloading data from https://github.com/fchollet/deep-learning-models/releases/download/v0.6/mobilenet_1_0_224_tf.h5\n",
      "17227776/17225924 [==============================] - 0s 0us/step\n"
     ]
    }
   ],
   "source": [
    "# model = mri_model_2()\n",
    "base = keras.applications.mobilenet.MobileNet(weights='imagenet')\n",
    "last_layer=base.layers[-2].output\n",
    "layers = Dropout(0.3)(last_layer)\n",
    "layers = Dense(23,activation='softmax')(layers)\n",
    "model = Model(base.input,outputs=layers)\n",
    "# model.summary()"
   ]
  },
  {
   "cell_type": "code",
   "execution_count": 9,
   "metadata": {},
   "outputs": [
    {
     "name": "stdout",
     "output_type": "stream",
     "text": [
      "epoch70  mobilenetepoch150  model-file\r\n",
      "Model: \"model_1\"\n",
      "_________________________________________________________________\n",
      "Layer (type)                 Output Shape              Param #   \n",
      "=================================================================\n",
      "input_1 (InputLayer)         (None, 224, 224, 3)       0         \n",
      "_________________________________________________________________\n",
      "conv1_pad (ZeroPadding2D)    (None, 225, 225, 3)       0         \n",
      "_________________________________________________________________\n",
      "conv1 (Conv2D)               (None, 112, 112, 32)      864       \n",
      "_________________________________________________________________\n",
      "conv1_bn (BatchNormalization (None, 112, 112, 32)      128       \n",
      "_________________________________________________________________\n",
      "conv1_relu (ReLU)            (None, 112, 112, 32)      0         \n",
      "_________________________________________________________________\n",
      "conv_dw_1 (DepthwiseConv2D)  (None, 112, 112, 32)      288       \n",
      "_________________________________________________________________\n",
      "conv_dw_1_bn (BatchNormaliza (None, 112, 112, 32)      128       \n",
      "_________________________________________________________________\n",
      "conv_dw_1_relu (ReLU)        (None, 112, 112, 32)      0         \n",
      "_________________________________________________________________\n",
      "conv_pw_1 (Conv2D)           (None, 112, 112, 64)      2048      \n",
      "_________________________________________________________________\n",
      "conv_pw_1_bn (BatchNormaliza (None, 112, 112, 64)      256       \n",
      "_________________________________________________________________\n",
      "conv_pw_1_relu (ReLU)        (None, 112, 112, 64)      0         \n",
      "_________________________________________________________________\n",
      "conv_pad_2 (ZeroPadding2D)   (None, 113, 113, 64)      0         \n",
      "_________________________________________________________________\n",
      "conv_dw_2 (DepthwiseConv2D)  (None, 56, 56, 64)        576       \n",
      "_________________________________________________________________\n",
      "conv_dw_2_bn (BatchNormaliza (None, 56, 56, 64)        256       \n",
      "_________________________________________________________________\n",
      "conv_dw_2_relu (ReLU)        (None, 56, 56, 64)        0         \n",
      "_________________________________________________________________\n",
      "conv_pw_2 (Conv2D)           (None, 56, 56, 128)       8192      \n",
      "_________________________________________________________________\n",
      "conv_pw_2_bn (BatchNormaliza (None, 56, 56, 128)       512       \n",
      "_________________________________________________________________\n",
      "conv_pw_2_relu (ReLU)        (None, 56, 56, 128)       0         \n",
      "_________________________________________________________________\n",
      "conv_dw_3 (DepthwiseConv2D)  (None, 56, 56, 128)       1152      \n",
      "_________________________________________________________________\n",
      "conv_dw_3_bn (BatchNormaliza (None, 56, 56, 128)       512       \n",
      "_________________________________________________________________\n",
      "conv_dw_3_relu (ReLU)        (None, 56, 56, 128)       0         \n",
      "_________________________________________________________________\n",
      "conv_pw_3 (Conv2D)           (None, 56, 56, 128)       16384     \n",
      "_________________________________________________________________\n",
      "conv_pw_3_bn (BatchNormaliza (None, 56, 56, 128)       512       \n",
      "_________________________________________________________________\n",
      "conv_pw_3_relu (ReLU)        (None, 56, 56, 128)       0         \n",
      "_________________________________________________________________\n",
      "conv_pad_4 (ZeroPadding2D)   (None, 57, 57, 128)       0         \n",
      "_________________________________________________________________\n",
      "conv_dw_4 (DepthwiseConv2D)  (None, 28, 28, 128)       1152      \n",
      "_________________________________________________________________\n",
      "conv_dw_4_bn (BatchNormaliza (None, 28, 28, 128)       512       \n",
      "_________________________________________________________________\n",
      "conv_dw_4_relu (ReLU)        (None, 28, 28, 128)       0         \n",
      "_________________________________________________________________\n",
      "conv_pw_4 (Conv2D)           (None, 28, 28, 256)       32768     \n",
      "_________________________________________________________________\n",
      "conv_pw_4_bn (BatchNormaliza (None, 28, 28, 256)       1024      \n",
      "_________________________________________________________________\n",
      "conv_pw_4_relu (ReLU)        (None, 28, 28, 256)       0         \n",
      "_________________________________________________________________\n",
      "conv_dw_5 (DepthwiseConv2D)  (None, 28, 28, 256)       2304      \n",
      "_________________________________________________________________\n",
      "conv_dw_5_bn (BatchNormaliza (None, 28, 28, 256)       1024      \n",
      "_________________________________________________________________\n",
      "conv_dw_5_relu (ReLU)        (None, 28, 28, 256)       0         \n",
      "_________________________________________________________________\n",
      "conv_pw_5 (Conv2D)           (None, 28, 28, 256)       65536     \n",
      "_________________________________________________________________\n",
      "conv_pw_5_bn (BatchNormaliza (None, 28, 28, 256)       1024      \n",
      "_________________________________________________________________\n",
      "conv_pw_5_relu (ReLU)        (None, 28, 28, 256)       0         \n",
      "_________________________________________________________________\n",
      "conv_pad_6 (ZeroPadding2D)   (None, 29, 29, 256)       0         \n",
      "_________________________________________________________________\n",
      "conv_dw_6 (DepthwiseConv2D)  (None, 14, 14, 256)       2304      \n",
      "_________________________________________________________________\n",
      "conv_dw_6_bn (BatchNormaliza (None, 14, 14, 256)       1024      \n",
      "_________________________________________________________________\n",
      "conv_dw_6_relu (ReLU)        (None, 14, 14, 256)       0         \n",
      "_________________________________________________________________\n",
      "conv_pw_6 (Conv2D)           (None, 14, 14, 512)       131072    \n",
      "_________________________________________________________________\n",
      "conv_pw_6_bn (BatchNormaliza (None, 14, 14, 512)       2048      \n",
      "_________________________________________________________________\n",
      "conv_pw_6_relu (ReLU)        (None, 14, 14, 512)       0         \n",
      "_________________________________________________________________\n",
      "conv_dw_7 (DepthwiseConv2D)  (None, 14, 14, 512)       4608      \n",
      "_________________________________________________________________\n",
      "conv_dw_7_bn (BatchNormaliza (None, 14, 14, 512)       2048      \n",
      "_________________________________________________________________\n",
      "conv_dw_7_relu (ReLU)        (None, 14, 14, 512)       0         \n",
      "_________________________________________________________________\n",
      "conv_pw_7 (Conv2D)           (None, 14, 14, 512)       262144    \n",
      "_________________________________________________________________\n",
      "conv_pw_7_bn (BatchNormaliza (None, 14, 14, 512)       2048      \n",
      "_________________________________________________________________\n",
      "conv_pw_7_relu (ReLU)        (None, 14, 14, 512)       0         \n",
      "_________________________________________________________________\n",
      "conv_dw_8 (DepthwiseConv2D)  (None, 14, 14, 512)       4608      \n",
      "_________________________________________________________________\n",
      "conv_dw_8_bn (BatchNormaliza (None, 14, 14, 512)       2048      \n",
      "_________________________________________________________________\n",
      "conv_dw_8_relu (ReLU)        (None, 14, 14, 512)       0         \n",
      "_________________________________________________________________\n",
      "conv_pw_8 (Conv2D)           (None, 14, 14, 512)       262144    \n",
      "_________________________________________________________________\n",
      "conv_pw_8_bn (BatchNormaliza (None, 14, 14, 512)       2048      \n",
      "_________________________________________________________________\n",
      "conv_pw_8_relu (ReLU)        (None, 14, 14, 512)       0         \n",
      "_________________________________________________________________\n",
      "conv_dw_9 (DepthwiseConv2D)  (None, 14, 14, 512)       4608      \n",
      "_________________________________________________________________\n",
      "conv_dw_9_bn (BatchNormaliza (None, 14, 14, 512)       2048      \n",
      "_________________________________________________________________\n",
      "conv_dw_9_relu (ReLU)        (None, 14, 14, 512)       0         \n",
      "_________________________________________________________________\n",
      "conv_pw_9 (Conv2D)           (None, 14, 14, 512)       262144    \n",
      "_________________________________________________________________\n",
      "conv_pw_9_bn (BatchNormaliza (None, 14, 14, 512)       2048      \n",
      "_________________________________________________________________\n",
      "conv_pw_9_relu (ReLU)        (None, 14, 14, 512)       0         \n",
      "_________________________________________________________________\n",
      "conv_dw_10 (DepthwiseConv2D) (None, 14, 14, 512)       4608      \n",
      "_________________________________________________________________\n",
      "conv_dw_10_bn (BatchNormaliz (None, 14, 14, 512)       2048      \n",
      "_________________________________________________________________\n",
      "conv_dw_10_relu (ReLU)       (None, 14, 14, 512)       0         \n",
      "_________________________________________________________________\n",
      "conv_pw_10 (Conv2D)          (None, 14, 14, 512)       262144    \n",
      "_________________________________________________________________\n",
      "conv_pw_10_bn (BatchNormaliz (None, 14, 14, 512)       2048      \n",
      "_________________________________________________________________\n",
      "conv_pw_10_relu (ReLU)       (None, 14, 14, 512)       0         \n",
      "_________________________________________________________________\n",
      "conv_dw_11 (DepthwiseConv2D) (None, 14, 14, 512)       4608      \n",
      "_________________________________________________________________\n",
      "conv_dw_11_bn (BatchNormaliz (None, 14, 14, 512)       2048      \n",
      "_________________________________________________________________\n",
      "conv_dw_11_relu (ReLU)       (None, 14, 14, 512)       0         \n",
      "_________________________________________________________________\n",
      "conv_pw_11 (Conv2D)          (None, 14, 14, 512)       262144    \n",
      "_________________________________________________________________\n",
      "conv_pw_11_bn (BatchNormaliz (None, 14, 14, 512)       2048      \n",
      "_________________________________________________________________\n",
      "conv_pw_11_relu (ReLU)       (None, 14, 14, 512)       0         \n",
      "_________________________________________________________________\n",
      "conv_pad_12 (ZeroPadding2D)  (None, 15, 15, 512)       0         \n",
      "_________________________________________________________________\n",
      "conv_dw_12 (DepthwiseConv2D) (None, 7, 7, 512)         4608      \n",
      "_________________________________________________________________\n",
      "conv_dw_12_bn (BatchNormaliz (None, 7, 7, 512)         2048      \n",
      "_________________________________________________________________\n",
      "conv_dw_12_relu (ReLU)       (None, 7, 7, 512)         0         \n",
      "_________________________________________________________________\n",
      "conv_pw_12 (Conv2D)          (None, 7, 7, 1024)        524288    \n",
      "_________________________________________________________________\n",
      "conv_pw_12_bn (BatchNormaliz (None, 7, 7, 1024)        4096      \n",
      "_________________________________________________________________\n",
      "conv_pw_12_relu (ReLU)       (None, 7, 7, 1024)        0         \n",
      "_________________________________________________________________\n",
      "conv_dw_13 (DepthwiseConv2D) (None, 7, 7, 1024)        9216      \n",
      "_________________________________________________________________\n",
      "conv_dw_13_bn (BatchNormaliz (None, 7, 7, 1024)        4096      \n",
      "_________________________________________________________________\n",
      "conv_dw_13_relu (ReLU)       (None, 7, 7, 1024)        0         \n",
      "_________________________________________________________________\n",
      "conv_pw_13 (Conv2D)          (None, 7, 7, 1024)        1048576   \n",
      "_________________________________________________________________\n",
      "conv_pw_13_bn (BatchNormaliz (None, 7, 7, 1024)        4096      \n",
      "_________________________________________________________________\n",
      "conv_pw_13_relu (ReLU)       (None, 7, 7, 1024)        0         \n",
      "_________________________________________________________________\n",
      "global_average_pooling2d_1 ( (None, 1024)              0         \n",
      "_________________________________________________________________\n",
      "reshape_1 (Reshape)          (None, 1, 1, 1024)        0         \n",
      "_________________________________________________________________\n",
      "dropout (Dropout)            (None, 1, 1, 1024)        0         \n",
      "_________________________________________________________________\n",
      "conv_preds (Conv2D)          (None, 1, 1, 1000)        1025000   \n",
      "_________________________________________________________________\n",
      "reshape_2 (Reshape)          (None, 1000)              0         \n",
      "_________________________________________________________________\n",
      "dropout_1 (Dropout)          (None, 1000)              0         \n",
      "_________________________________________________________________\n",
      "dense_1 (Dense)              (None, 23)                23023     \n",
      "=================================================================\n",
      "Total params: 4,276,887\n",
      "Trainable params: 2,636,247\n",
      "Non-trainable params: 1,640,640\n",
      "_________________________________________________________________\n"
     ]
    }
   ],
   "source": [
    "!ls ../input\n",
    "# model = keras.models.load_model('../input/mobilenetepoch150/mobilenet-epoch147-val63.h5')\n",
    "# model.summary()\n",
    "for layer in model.layers:\n",
    "    layer.trainable=False\n",
    "\n",
    "for layer in model.layers[-16:]:\n",
    "    layer.trainable = True\n",
    "    \n",
    "model.summary()"
   ]
  },
  {
   "cell_type": "code",
   "execution_count": 10,
   "metadata": {},
   "outputs": [],
   "source": [
    "import keras\n",
    "from keras import *\n",
    "import time\n",
    "from keras.callbacks import ModelCheckpoint"
   ]
  },
  {
   "cell_type": "code",
   "execution_count": 11,
   "metadata": {
    "_cell_guid": "a37f83a2-0adc-47f0-9a14-440aa1d8d969",
    "_uuid": "26409da3-548e-4e06-9b6a-8b84d7a24388"
   },
   "outputs": [
    {
     "name": "stdout",
     "output_type": "stream",
     "text": [
      "Found 15557 images belonging to 23 classes.\n",
      "Found 4002 images belonging to 23 classes.\n"
     ]
    }
   ],
   "source": [
    "_DATASET_FILEPATH = \"train/\"\n",
    "_TEST_FILEPATH = \"test/\"\n",
    "_IMAGES_HEIGHT, _IMAGES_WIDTH = 224,224\n",
    "_BATCH_SIZE = 100\n",
    "\n",
    "train_generator = keras.preprocessing.image.ImageDataGenerator(\n",
    "  rescale=1./255,\n",
    "  shear_range=0.2,\n",
    "  zoom_range=0.2,\n",
    "  horizontal_flip=True,\n",
    "  rotation_range=90,\n",
    ")\n",
    "\n",
    "train_flow = train_generator.flow_from_directory(\n",
    "  directory=_DATASET_FILEPATH,\n",
    "  target_size=(_IMAGES_HEIGHT, _IMAGES_WIDTH),\n",
    "  batch_size=_BATCH_SIZE,\n",
    "  class_mode='categorical',\n",
    ")\n",
    "\n",
    "# validation_generator = keras.preprocessing.image.ImageDataGenerator(\n",
    "#     rescale=1./255)\n",
    "\n",
    "# validation_flow = validation_generator.flow_from_directory(\n",
    "#   directory=_VALIDATION_FILEPATH,\n",
    "#   target_size=(_IMAGES_HEIGHT, _IMAGES_WIDTH),\n",
    "#   batch_size=_BATCH_SIZE,\n",
    "#   class_mode='categorical',\n",
    "# )\n",
    "\n",
    "test_generator = keras.preprocessing.image.ImageDataGenerator(rescale=1./255)\n",
    "\n",
    "test_flow = test_generator.flow_from_directory(\n",
    "  directory=_TEST_FILEPATH,\n",
    "  target_size=(_IMAGES_HEIGHT, _IMAGES_WIDTH),\n",
    "  batch_size=_BATCH_SIZE,\n",
    "  class_mode='categorical',\n",
    ")"
   ]
  },
  {
   "cell_type": "code",
   "execution_count": 12,
   "metadata": {
    "_cell_guid": "353e0559-c1f1-4a42-ab19-1286500ca4a9",
    "_uuid": "744d3dc7-e871-40ba-b316-0e8fab7399d9"
   },
   "outputs": [
    {
     "data": {
      "text/plain": [
       "['loss', 'accuracy']"
      ]
     },
     "execution_count": 12,
     "metadata": {},
     "output_type": "execute_result"
    }
   ],
   "source": [
    "model.compile(loss='categorical_crossentropy',optimizer='adam',metrics=['accuracy'])\n",
    "model.metrics_names"
   ]
  },
  {
   "cell_type": "code",
   "execution_count": 13,
   "metadata": {},
   "outputs": [],
   "source": [
    "from keras.applications.resnet50 import ResNet50\n",
    "from keras import Input\n",
    "from keras.layers import Flatten,Dense\n",
    "# resnet_model = ResNet50(input_shape=[80,80,3], include_top=False,weights='imagenet')\n",
    "# # model.summary()\n",
    "# last_layer = resnet_model.layers[-1].output\n",
    "# x= Flatten(name='flatten')(last_layer)\n",
    "# out = Dense(23, activation='softmax', name='output_layer')(x)\n",
    "# model = Model(inputs=resnet_model.layers[0].output,outputs= out)\n",
    "\n",
    "# for layer in model.layers:\n",
    "#     layer.trainable = True\n",
    "\n",
    "# model.compile(loss='categorical_crossentropy',optimizer='adam',metrics=['accuracy'])\n",
    "\n",
    "# model.summary()"
   ]
  },
  {
   "cell_type": "code",
   "execution_count": 14,
   "metadata": {},
   "outputs": [],
   "source": [
    "# from keras.models import load_model\n",
    "# !ls ../input\n",
    "# model = load_model(\"../input/resnet-weights-improvement-62-0.38.h5\")\n",
    "# loss,accuracy = model.evaluate_generator(generator=test_flow)\n",
    "# print(\"[INFO] Model loss: \"+str(loss)+\"   Accuracy:\"+str(accuracy))"
   ]
  },
  {
   "cell_type": "code",
   "execution_count": 15,
   "metadata": {},
   "outputs": [],
   "source": [
    "!find  . -name 'resnet*' -exec rm {} \\;"
   ]
  },
  {
   "cell_type": "code",
   "execution_count": 16,
   "metadata": {
    "_cell_guid": "ef612eae-5599-46e9-b133-4f2432f2588f",
    "_uuid": "53f57168-c1d6-48a5-878d-ffb1e8cc85b7"
   },
   "outputs": [
    {
     "name": "stdout",
     "output_type": "stream",
     "text": [
      "Epoch 1/30\n",
      "156/156 [==============================] - 291s 2s/step - loss: 3.8827 - accuracy: 0.2296 - val_loss: 10.9523 - val_accuracy: 0.0620\n",
      "\n",
      "Epoch 00001: val_accuracy improved from -inf to 0.06197, saving model to mobilenet-scratch-recent-3.h5\n",
      "Epoch 2/30\n",
      "156/156 [==============================] - 272s 2s/step - loss: 2.3074 - accuracy: 0.3249 - val_loss: 5.8267 - val_accuracy: 0.0972\n",
      "\n",
      "Epoch 00002: val_accuracy improved from 0.06197 to 0.09720, saving model to mobilenet-scratch-recent-3.h5\n",
      "Epoch 3/30\n",
      "156/156 [==============================] - 272s 2s/step - loss: 2.0980 - accuracy: 0.3750 - val_loss: 5.1716 - val_accuracy: 0.0982\n",
      "\n",
      "Epoch 00003: val_accuracy improved from 0.09720 to 0.09820, saving model to mobilenet-scratch-recent-3.h5\n",
      "Epoch 4/30\n",
      "156/156 [==============================] - 272s 2s/step - loss: 1.9636 - accuracy: 0.4116 - val_loss: 3.4137 - val_accuracy: 0.1479\n",
      "\n",
      "Epoch 00004: val_accuracy improved from 0.09820 to 0.14793, saving model to mobilenet-scratch-recent-3.h5\n",
      "Epoch 5/30\n",
      "156/156 [==============================] - 271s 2s/step - loss: 1.8453 - accuracy: 0.4385 - val_loss: 6.2773 - val_accuracy: 0.1137\n",
      "\n",
      "Epoch 00005: val_accuracy did not improve from 0.14793\n",
      "Epoch 6/30\n",
      "156/156 [==============================] - 272s 2s/step - loss: 1.7473 - accuracy: 0.4694 - val_loss: 5.4873 - val_accuracy: 0.0802\n",
      "\n",
      "Epoch 00006: val_accuracy did not improve from 0.14793\n",
      "Epoch 7/30\n",
      "156/156 [==============================] - 273s 2s/step - loss: 1.6617 - accuracy: 0.4944 - val_loss: 3.2772 - val_accuracy: 0.2094\n",
      "\n",
      "Epoch 00007: val_accuracy improved from 0.14793 to 0.20940, saving model to mobilenet-scratch-recent-3.h5\n",
      "Epoch 8/30\n",
      "156/156 [==============================] - 276s 2s/step - loss: 1.5780 - accuracy: 0.5173 - val_loss: 4.2974 - val_accuracy: 0.1282\n",
      "\n",
      "Epoch 00008: val_accuracy did not improve from 0.20940\n",
      "Epoch 9/30\n",
      "156/156 [==============================] - 277s 2s/step - loss: 1.4858 - accuracy: 0.5430 - val_loss: 0.1899 - val_accuracy: 0.1574\n",
      "\n",
      "Epoch 00009: val_accuracy did not improve from 0.20940\n",
      "Epoch 10/30\n",
      "156/156 [==============================] - 277s 2s/step - loss: 1.4050 - accuracy: 0.5626 - val_loss: 4.6586 - val_accuracy: 0.1982\n",
      "\n",
      "Epoch 00010: val_accuracy did not improve from 0.20940\n",
      "Epoch 11/30\n",
      "156/156 [==============================] - 274s 2s/step - loss: 1.3697 - accuracy: 0.5754 - val_loss: 4.3500 - val_accuracy: 0.1452\n",
      "\n",
      "Epoch 00011: val_accuracy did not improve from 0.20940\n",
      "Epoch 12/30\n",
      "156/156 [==============================] - 276s 2s/step - loss: 1.2757 - accuracy: 0.5999 - val_loss: 3.1265 - val_accuracy: 0.1332\n",
      "\n",
      "Epoch 00012: val_accuracy did not improve from 0.20940\n",
      "Epoch 13/30\n",
      "156/156 [==============================] - 277s 2s/step - loss: 1.2395 - accuracy: 0.6069 - val_loss: 6.2903 - val_accuracy: 0.1209\n",
      "\n",
      "Epoch 00013: val_accuracy did not improve from 0.20940\n",
      "Epoch 14/30\n",
      "156/156 [==============================] - 278s 2s/step - loss: 1.1631 - accuracy: 0.6344 - val_loss: 2.1280 - val_accuracy: 0.1697\n",
      "\n",
      "Epoch 00014: val_accuracy did not improve from 0.20940\n",
      "Epoch 15/30\n",
      "156/156 [==============================] - 279s 2s/step - loss: 1.1304 - accuracy: 0.6483 - val_loss: 8.7306 - val_accuracy: 0.1379\n",
      "\n",
      "Epoch 00015: val_accuracy did not improve from 0.20940\n",
      "Epoch 16/30\n",
      "156/156 [==============================] - 281s 2s/step - loss: 1.0621 - accuracy: 0.6657 - val_loss: 3.6404 - val_accuracy: 0.1612\n",
      "\n",
      "Epoch 00016: val_accuracy did not improve from 0.20940\n",
      "Epoch 17/30\n",
      "156/156 [==============================] - 281s 2s/step - loss: 1.0189 - accuracy: 0.6748 - val_loss: 6.4590 - val_accuracy: 0.1664\n",
      "\n",
      "Epoch 00017: val_accuracy did not improve from 0.20940\n",
      "Epoch 18/30\n",
      "156/156 [==============================] - 278s 2s/step - loss: 0.9644 - accuracy: 0.6919 - val_loss: 1.5590 - val_accuracy: 0.1699\n",
      "\n",
      "Epoch 00018: val_accuracy did not improve from 0.20940\n",
      "Epoch 19/30\n",
      "156/156 [==============================] - 280s 2s/step - loss: 0.9170 - accuracy: 0.7059 - val_loss: 4.5182 - val_accuracy: 0.1124\n",
      "\n",
      "Epoch 00019: val_accuracy did not improve from 0.20940\n",
      "Epoch 20/30\n",
      "156/156 [==============================] - 281s 2s/step - loss: 0.8796 - accuracy: 0.7154 - val_loss: 4.5558 - val_accuracy: 0.1972\n",
      "\n",
      "Epoch 00020: val_accuracy did not improve from 0.20940\n",
      "Epoch 21/30\n",
      "156/156 [==============================] - 281s 2s/step - loss: 0.8605 - accuracy: 0.7213 - val_loss: 5.1813 - val_accuracy: 0.1402\n",
      "\n",
      "Epoch 00021: val_accuracy did not improve from 0.20940\n",
      "Epoch 22/30\n",
      "156/156 [==============================] - 282s 2s/step - loss: 0.8210 - accuracy: 0.7344 - val_loss: 1.9142 - val_accuracy: 0.1662\n",
      "\n",
      "Epoch 00022: val_accuracy did not improve from 0.20940\n",
      "Epoch 23/30\n",
      "156/156 [==============================] - 281s 2s/step - loss: 0.7712 - accuracy: 0.7460 - val_loss: 1.4017 - val_accuracy: 0.1269\n",
      "\n",
      "Epoch 00023: val_accuracy did not improve from 0.20940\n",
      "Epoch 24/30\n",
      "156/156 [==============================] - 282s 2s/step - loss: 0.7571 - accuracy: 0.7529 - val_loss: 5.3004 - val_accuracy: 0.1669\n",
      "\n",
      "Epoch 00024: val_accuracy did not improve from 0.20940\n",
      "Epoch 25/30\n",
      "156/156 [==============================] - 281s 2s/step - loss: 0.7039 - accuracy: 0.7671 - val_loss: 7.1305 - val_accuracy: 0.2076\n",
      "\n",
      "Epoch 00025: val_accuracy did not improve from 0.20940\n",
      "Epoch 26/30\n",
      "156/156 [==============================] - 275s 2s/step - loss: 0.7007 - accuracy: 0.7717 - val_loss: 4.3428 - val_accuracy: 0.1239\n",
      "\n",
      "Epoch 00026: val_accuracy did not improve from 0.20940\n",
      "Epoch 27/30\n",
      "156/156 [==============================] - 271s 2s/step - loss: 0.6639 - accuracy: 0.7832 - val_loss: 11.9861 - val_accuracy: 0.1387\n",
      "\n",
      "Epoch 00027: val_accuracy did not improve from 0.20940\n",
      "Epoch 28/30\n",
      "156/156 [==============================] - 272s 2s/step - loss: 0.6365 - accuracy: 0.7907 - val_loss: 7.2561 - val_accuracy: 0.1797\n",
      "\n",
      "Epoch 00028: val_accuracy did not improve from 0.20940\n",
      "Epoch 29/30\n",
      "156/156 [==============================] - 271s 2s/step - loss: 0.6111 - accuracy: 0.7992 - val_loss: 5.3293 - val_accuracy: 0.1862\n",
      "\n",
      "Epoch 00029: val_accuracy did not improve from 0.20940\n",
      "Epoch 30/30\n",
      "156/156 [==============================] - 274s 2s/step - loss: 0.5893 - accuracy: 0.8024 - val_loss: 10.3084 - val_accuracy: 0.1537\n",
      "\n",
      "Epoch 00030: val_accuracy did not improve from 0.20940\n",
      "[INFO] Model loss: 10.308366775512695   Accuracy:0.15367315709590912  Time: 8340.954365253448\n",
      "[INFO] Model Saved\n"
     ]
    }
   ],
   "source": [
    "t = time.time()\n",
    "logdir=\"\"\n",
    "tensorboard_callback = keras.callbacks.TensorBoard(log_dir=logdir)\n",
    "filepath=\"mobilenet-scratch-recent-3.h5\"\n",
    "checkpoint = ModelCheckpoint(filepath, monitor='val_accuracy', verbose=1, save_best_only=True, mode='max')\n",
    "h=model.fit_generator(generator=train_flow,validation_data=test_flow,epochs=30,callbacks=[checkpoint])\n",
    "loss,accuracy = model.evaluate_generator(generator=test_flow)\n",
    "print(\"[INFO] Model loss: \"+str(loss)+\"   Accuracy:\"+str(accuracy)+\"  Time: \"+str(time.time()-t))\n",
    "model.save(\"mobilenet_model_scratch.h5\")\n",
    "print(\"[INFO] Model Saved\")"
   ]
  },
  {
   "cell_type": "code",
   "execution_count": 17,
   "metadata": {},
   "outputs": [
    {
     "name": "stderr",
     "output_type": "stream",
     "text": [
      "/opt/conda/lib/python3.6/site-packages/ipykernel_launcher.py:10: MatplotlibDeprecationWarning: Unrecognized location 'upper_left'. Falling back on 'best'; valid locations are\n",
      "\tbest\n",
      "\tupper right\n",
      "\tupper left\n",
      "\tlower left\n",
      "\tlower right\n",
      "\tright\n",
      "\tcenter left\n",
      "\tcenter right\n",
      "\tlower center\n",
      "\tupper center\n",
      "\tcenter\n",
      "This will raise an exception in 3.3.\n",
      "  # Remove the CWD from sys.path while we load stuff.\n"
     ]
    },
    {
     "data": {
      "image/png": "[encoded data removed]",
      "text/plain": [
       "<Figure size 432x288 with 1 Axes>"
      ]
     },
     "metadata": {
      "needs_background": "light"
     },
     "output_type": "display_data"
    }
   ],
   "source": [
    "import matplotlib.pyplot as plt\n",
    "import matplotlib.image as mpimg\n",
    "\n",
    "h.history.keys()\n",
    "plt.plot(h.history['accuracy'])\n",
    "plt.plot(h.history['val_accuracy'])\n",
    "plt.title(\"Accuracy in training and test set\")\n",
    "plt.xlabel('Epochs')\n",
    "plt.ylabel('Accuracy')\n",
    "plt.legend([\"Train\", \"Test\"], loc = 'upper_left')\n",
    "plt.show()"
   ]
  },
  {
   "cell_type": "code",
   "execution_count": 18,
   "metadata": {},
   "outputs": [],
   "source": [
    "!rm -r train\n",
    "!rm -r test"
   ]
  },
  {
   "cell_type": "code",
   "execution_count": 19,
   "metadata": {
    "_cell_guid": "aca6c08e-18d9-4eba-861a-4606c6ca9306",
    "_uuid": "4cca1ee1-04d6-4b64-902e-8d110a95c353"
   },
   "outputs": [],
   "source": [
    "# if tensorflow.test.gpu_device_name():\n",
    "#     print('Default GPU Device: {}'.format(tf.test.gpu_device_name()))\n",
    "# else:\n",
    "#     print(\"Please install GPU version of TF\")"
   ]
  }
 ],
 "metadata": {
  "kernelspec": {
   "display_name": "Python 3",
   "language": "python",
   "name": "python3"
  },
  "language_info": {
   "codemirror_mode": {
    "name": "ipython",
    "version": 3
   },
   "file_extension": ".py",
   "mimetype": "text/x-python",
   "name": "python",
   "nbconvert_exporter": "python",
   "pygments_lexer": "ipython3",
   "version": "3.6.6"
  }
 },
 "nbformat": 4,
 "nbformat_minor": 4
}
